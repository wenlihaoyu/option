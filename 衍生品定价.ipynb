{
 "cells": [
  {
   "cell_type": "markdown",
   "metadata": {},
   "source": [
    "## 1 普通远期\n",
    "公司在未来某个时刻（交割日）以锁定汇率$K$卖出币种买入另一个币种，那么即期价格为S时，其该合约的市场价值为：\n",
    "\n",
    "## $$c = S  - Ke^{-r \\tau} $$ \n",
    "$其中r为两货币国家的的固定收益率差的差值,\\tau为时间长度：\\tau = t/T$"
   ]
  },
  {
   "cell_type": "markdown",
   "metadata": {},
   "source": [
    "## 2 领式期权\n",
    "公司与银行买入一个美元看涨期权，卖出一个美元看跌期权  \n",
    "如果厘定日汇率$X$小于执行汇率下限$L$，则公司在交割日以执行汇率下限卖出A买入B；  \n",
    "如果厘定日汇率$X$大于执行汇率上线$U$，则公司在交割日以执行汇率上限卖出A买入B。  \n",
    "那么即期价格为S时，其定价公式为：  \n",
    "### 欧式看涨期权的价值：  \n",
    "## $$c = S\\frac{1}{2\\pi}\\int_{-\\infty}^{d_{1}}e^{-\\frac{1}{2}x^{2}}dx -  Ue^{-rt}\\frac{1}{2\\pi}\\int_{-\\infty}^{d_{2}}e^{-\\frac{1}{2}x^{2}}dx$$\n",
    "\n",
    "其中：\n",
    "## $$d_{1} = \\frac{S/Ue^{-rt}}{\\delta\\sqrt{t}}, d_{2} = d_{1} - \\delta\\sqrt{t}$$\n",
    "\n",
    "### 欧式看跌期权的价值：  \n",
    "\n",
    "## $$p = S[\\frac{1}{2\\pi}\\int_{-\\infty}^{d_{1}}e^{-\\frac{1}{2}x^{2}}dx-1] -  Le^{-rt}[\\frac{1}{2\\pi}\\int_{-\\infty}^{d_{2}}e^{-\\frac{1}{2}x^{2}}dx - 1 ]$$\n",
    "\n",
    "其中：\n",
    "##  $$d_{1} = \\frac{S/Le^{-rt}}{\\delta\\sqrt{t}}, d_{2} = d_{1} - \\delta\\sqrt{t}$$\n",
    "\n",
    "### 那么合约的价值：\n",
    "\n",
    "$$V = c+p$$\n",
    "\n"
   ]
  },
  {
   "cell_type": "markdown",
   "metadata": {},
   "source": [
    "##  3 货币掉期\n",
    "\n",
    "公司将某个币种$A$互换成另一个币种$B$的资产或者负债，支付A货币的利息，同时收取B货币的利息，两国的固定（浮动利率）分别为a\\b，,到期（N个月后）再以锁定汇率$K$互换.   \n",
    "    假设货币的付息方式均月付（算法实现根据实际支付方式计算），那么进行N次利息支付，那么时间为t时的汇率即期价格为S，那么该合约具有的市场价值为：    \n",
    "    $ date = \\{t_{1},t_{2},...,t_{n}\\}表示支付利息的时间序列 $   \n",
    "    那么将利息贴现到当前时刻：   \n",
    "    支付的利息贴现总额为：  \n",
    "    $$\\sum e^{-a(t-t_{i})}$$  \n",
    "    收取的利息贴现总额为：\n",
    "     $$\\sum e^{-b(t-t_{i})}$$    \n",
    "     \n",
    "那么，利息收益为： \n",
    "$$p=\\sum e^{-b(t-t_{i})}  - S\\sum e^{-a(t-t_{i})} $$  \n",
    "\n",
    "为了能够在期末执行该合约，假设只需在银行贷款金额：$Ke^{-r\\tau}$  \n",
    "### 那么当前时刻合约的价值：\n",
    "$$V = (S -Ke^{-r\\tau}) - p $$\n",
    "    \n",
    "    "
   ]
  },
  {
   "cell_type": "markdown",
   "metadata": {},
   "source": [
    "## 可赎回远期定价\n",
    "变量假设：  \n",
    "$c_{i}:第i期达到累计收益时产品敲除的价值$  \n",
    "$K:锁定汇率$  \n",
    "\n",
    "$X_{i}:第i期厘定日汇率$  \n",
    "$T_{i}:当前时间到第i期交割的时间$  \n",
    "$TIV:目标收益$   \n",
    "$r：固定收益率$  \n",
    "$S:实时汇率$\n",
    "\n",
    "$MIC_{i} = Max(K-X_{i},0)=\\frac{K+X_{i}+\\mid K-X_{i} \\mid}{2}:第i期收益$  \n",
    "\n",
    "#### 第一期就到达累计收益时的敲除概率：\n",
    "$$p_{1} =  P[MIC_{1}>TIV]$$\n",
    "$\\Rightarrow$ \n",
    "$$p_{1} = 1 - P[MIC_{1}<TIV]$$\n",
    "那么：\n",
    "\n",
    "$$p_{1} = 1 - P[K-X_{1}\\le TIV]  = 1 - P[X_{1}\\ge K - TIV] $$\n",
    "\n",
    "那么只有第一期以锁定价格执行交易：那么该结构性产品定价为：\n",
    "$$c_{i} = S - Ke^{-r T_{1}} $$\n",
    "\n",
    "\n",
    "#### 第二期到达累计收益时的敲除概率：\n",
    "$$p_{2} =  P[MIC_{1}+MIC_{2}>TIV]$$\n",
    "\n",
    "那么第一,二期以锁定价格执行交易：那么该结构性产品定价为：\n",
    "$$c_{2} =c_{1} + S - Ke^{-rT_{2}}  $$\n",
    "\n",
    "#### 第i期到达累计收益时的敲除概率：\n",
    "$$p_{i} =  P[ \\sum MIC_{i}>TIV]$$\n",
    "\n",
    "那么第一,二,...,i期以锁定价格执行交易：那么该结构性产品定价为：\n",
    "$$c_{i}  = c_{i-1} +S - Ke^{-rT_{i}}   $$\n",
    "\n",
    "最后一期的定价：\n",
    "$$p_{i} = P[ \\sum_{i=1}^{n-1} MIC_{i}<TIV]$$\n",
    "$$c_{n}  = c_{n-1} +S - Ke^{-rT_{n}}   $$\n",
    "\n",
    "\n",
    "### 那么该结构性产品的最终价值：\n",
    "\n",
    " $$\\overline {p} =  \\sum_{i=1}^{n-1} c_{i}p_{i} $$\n"
   ]
  }
 ],
 "metadata": {
  "anaconda-cloud": {},
  "kernelspec": {
   "display_name": "Python [Root]",
   "language": "python",
   "name": "Python [Root]"
  },
  "language_info": {
   "codemirror_mode": {
    "name": "ipython",
    "version": 2
   },
   "file_extension": ".py",
   "mimetype": "text/x-python",
   "name": "python",
   "nbconvert_exporter": "python",
   "pygments_lexer": "ipython2",
   "version": "2.7.11"
  }
 },
 "nbformat": 4,
 "nbformat_minor": 0
}
